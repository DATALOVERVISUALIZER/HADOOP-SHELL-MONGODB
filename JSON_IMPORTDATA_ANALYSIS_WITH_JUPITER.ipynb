{
 "cells": [
  {
   "cell_type": "markdown",
   "metadata": {
    "kernel": "SoS"
   },
   "source": [
    "# NOSQL AND QUERYING JSON AND XML/HTML OBJECTS/FILES"
   ]
  },
  {
   "cell_type": "markdown",
   "metadata": {
    "kernel": "SoS"
   },
   "source": [
    "**by Serhat Çevikel**"
   ]
  },
  {
   "cell_type": "markdown",
   "metadata": {
    "kernel": "SoS"
   },
   "source": [
    "## Working with JSON Objects"
   ]
  },
  {
   "cell_type": "markdown",
   "metadata": {
    "heading_collapsed": true,
    "kernel": "Bash"
   },
   "source": [
    "### Querying JSON with JQ"
   ]
  },
  {
   "cell_type": "markdown",
   "metadata": {
    "hidden": true,
    "kernel": "Bash"
   },
   "source": [
    "- Or better, we will use a handy tool called \"jq\" for this purpose:"
   ]
  },
  {
   "cell_type": "code",
   "execution_count": 1,
   "metadata": {
    "hidden": true,
    "kernel": "Bash"
   },
   "outputs": [],
   "source": [
    "echo $record1 | jq ."
   ]
  },
  {
   "cell_type": "markdown",
   "metadata": {
    "hidden": true,
    "kernel": "Bash"
   },
   "source": [
    "- What is more powerful about JSON format is that you can embedded documents inside other ones: (we print the data here in three visual formats)"
   ]
  },
  {
   "cell_type": "markdown",
   "metadata": {
    "hidden": true,
    "kernel": "Bash"
   },
   "source": [
    "- Multiple documents can be \"collected\" inside \"collections\":\n",
    "\n",
    "- A \"collection\" in NoSQL terminology is analogous to a \"table\" in the RDBMS jargon. A collection is a collection of similar items (or documents with similar key-value pairs)"
   ]
  },
  {
   "cell_type": "markdown",
   "metadata": {
    "kernel": "Bash"
   },
   "source": [
    "### A real json database example: UN COMTRADE"
   ]
  },
  {
   "cell_type": "raw",
   "metadata": {},
   "source": [
    "JavaScript Object Notation (JSON)\n",
    "The response includes basic information about the file and the URI to use in order to download the bulk data."
   ]
  },
  {
   "cell_type": "code",
   "execution_count": null,
   "metadata": {},
   "outputs": [
    {
     "name": "stdout",
     "output_type": "stream",
     "text": [
      "bash: [: missing `]'\n"
     ]
    }
   ],
   "source": [
    "[\n",
    "    {\n",
    "        \"type\": \"COMMODITIES\",\n",
    "        \"freq\": \"MONTHLY\",\n",
    "        \"px\": \"HS\",\n",
    "        \"r\": \"76\",\n",
    "        \"rDesc\": \"Brazil\",\n",
    "        \"ps\": \"201607\",\n",
    "        \"TotalRecords\": 126827,\n",
    "        \"IsOriginal\": 1,\n",
    "        \"IsPartnerDetail\": 1,\n",
    "        \"UploadTime\": \"2016-08-05T00:00:00\"\n",
    "    },\n",
    "    {\n",
    "        \"type\": \"COMMODITIES\",\n",
    "        \"freq\": \"MONTHLY\",\n",
    "        \"px\": \"HS\",\n",
    "        \"r\": \"579\",\n",
    "        \"rDesc\": \"Norway\",\n",
    "        \"ps\": \"201607\",\n",
    "        \"TotalRecords\": 110618,\n",
    "        \"IsOriginal\": 1,\n",
    "        \"IsPartnerDetail\": 1,\n",
    "        \"UploadTime\": \"2016-08-30T00:00:00\"\n",
    "    },\n",
    "    ...\n",
    "]"
   ]
  },
  {
   "cell_type": "markdown",
   "metadata": {
    "kernel": "Bash"
   },
   "source": [
    "- We will be using a part of the UN COMTRADE database:\n",
    "\n",
    "[UN COMTRADE](https://comtrade.un.org/)\n",
    "\n",
    "UN COMTRADE is the widest and most comprehensive database on international trade:\n",
    "\n",
    "- 250+ reporter countries\n",
    "- 290+ partner countries\n",
    "- 6500+ commodity codes\n",
    "- 50+ of history\n",
    "- Both imports and exports\n",
    "- Both values and quantities!"
   ]
  },
  {
   "cell_type": "markdown",
   "metadata": {
    "kernel": "Bash"
   },
   "source": [
    "Let's first save the path:"
   ]
  },
  {
   "cell_type": "code",
   "execution_count": 3,
   "metadata": {
    "kernel": "Bash"
   },
   "outputs": [],
   "source": [
    "datadir=~/data\n",
    "comtrade=$datadir/comtrade_s1"
   ]
  },
  {
   "cell_type": "code",
   "execution_count": 4,
   "metadata": {
    "kernel": "Bash"
   },
   "outputs": [
    {
     "name": "stdout",
     "output_type": "stream",
     "text": [
      "2010   classificationS1.json  reporterAreas.json\n",
      "2010e  partnerAreas.json      tradeRegimes.json\n"
     ]
    }
   ],
   "source": [
    "ls $comtrade"
   ]
  },
  {
   "cell_type": "markdown",
   "metadata": {
    "kernel": "Bash"
   },
   "source": [
    "- classificationS1.json lists the item classification according to SITC1 method\n",
    "- reporterAreas.json and partnerAreas.json lists the countries and their respective codes\n",
    "- data files are under 2010"
   ]
  },
  {
   "cell_type": "markdown",
   "metadata": {
    "kernel": "Bash"
   },
   "source": [
    "#### Reporters"
   ]
  },
  {
   "cell_type": "code",
   "execution_count": 5,
   "metadata": {
    "kernel": "Bash"
   },
   "outputs": [
    {
     "name": "stdout",
     "output_type": "stream",
     "text": [
      "{\n",
      "  \"more\": false,\n",
      "  \"results\": [\n",
      "    {\n",
      "      \"id\": \"all\",\n",
      "      \"text\": \"All\"\n",
      "    },\n",
      "    {\n",
      "      \"id\": \"0\",\n",
      "      \"text\": \"World\"\n",
      "    },\n",
      "    {\n",
      "      \"id\": \"4\",\n",
      "      \"text\": \"Afghanistan\"\n",
      "    },\n",
      "    {\n",
      "      \"id\": \"472\",\n",
      "      \"text\": \"Africa CAMEU region, nes\"\n",
      "    },\n",
      "    {\n",
      "Error: writing output failed: Broken pipe\n"
     ]
    }
   ],
   "source": [
    "jq . $comtrade/partnerAreas.json | head -20"
   ]
  },
  {
   "cell_type": "code",
   "execution_count": 6,
   "metadata": {
    "kernel": "Bash"
   },
   "outputs": [
    {
     "name": "stdout",
     "output_type": "stream",
     "text": [
      "All                                           all\n",
      "World                                         0\n",
      "Afghanistan                                   4\n",
      "Africa CAMEU region, nes                      472\n",
      "Albania                                       8\n",
      "Algeria                                       12\n",
      "American Samoa                                16\n",
      "Andorra                                       20\n",
      "Angola                                        24\n",
      "Anguilla                                      660\n",
      "Antarctica                                    10\n",
      "Antigua and Barbuda                           28\n",
      "Areas, nes                                    899\n",
      "Argentina                                     32\n",
      "Armenia                                       51\n",
      "Aruba                                         533\n",
      "Australia                                     36\n",
      "Austria                                       40\n",
      "Azerbaijan                                    31\n",
      "Bahamas                                       44\n"
     ]
    }
   ],
   "source": [
    "partnerlist=$(jq -r '.results[] | \"\\(.text)\\t\\(.id)\"' $comtrade/partnerAreas.json | \\\n",
    "xargs -0 -i echo -e \"{}\")\n",
    "\n",
    "reporterlist=$(jq -r '.results[] | \"\\(.text)\\t\\(.id)\"' $comtrade/reporterAreas.json | \\\n",
    "xargs -0 -i echo -e \"{}\")\n",
    "\n",
    "echo \"$partnerlist\" |  column -s $'\\t' -t | head -20"
   ]
  },
  {
   "cell_type": "raw",
   "metadata": {},
   "source": [
    "I want to find product groups between Azerbaijan and Turkey"
   ]
  },
  {
   "cell_type": "code",
   "execution_count": 8,
   "metadata": {},
   "outputs": [
    {
     "name": "stdout",
     "output_type": "stream",
     "text": [
      "31\n"
     ]
    }
   ],
   "source": [
    "echo \"$reporterlist\" | awk -F \"\\t\" '$1==\"Azerbaijan\"{print $2}'"
   ]
  },
  {
   "cell_type": "code",
   "execution_count": 9,
   "metadata": {},
   "outputs": [
    {
     "name": "stdout",
     "output_type": "stream",
     "text": [
      "792\n"
     ]
    }
   ],
   "source": [
    "echo \"$partnerlist\" | awk -F \"\\t\" '$1==\"Turkey\"{print $2}'"
   ]
  },
  {
   "cell_type": "code",
   "execution_count": 11,
   "metadata": {},
   "outputs": [
    {
     "name": "stdout",
     "output_type": "stream",
     "text": [
      "Azerbaijan  Turkey  41925916  1  6911   Fin.structural parts & structures of iron steel  1\n",
      "Azerbaijan  Turkey  37807399  1  5542   Surface acting agents and washing preparations   1\n",
      "Azerbaijan  Turkey  24866267  1  64299  Other art.of paper/pulp/board/cellulose wadding  1\n",
      "Azerbaijan  Turkey  22078974  2  5812   Products of polymerization and copolymerization  1\n",
      "Azerbaijan  Turkey  21951975  1  5812   Products of polymerization and copolymerization  1\n",
      "Azerbaijan  Turkey  21527353  1  82109  Furniture and parts thereof,n.e.s.               1\n",
      "Azerbaijan  Turkey  21121289  1  8930   Articles of artif.plastic materials,n.e.s.       1\n",
      "Azerbaijan  Turkey  14449109  1  7321   Passenger motor cars, other than buses           1\n",
      "Azerbaijan  Turkey  13374480  1  71931  Lifting & loading machinery                      1\n",
      "Azerbaijan  Turkey  13033020  1  5811   Prods of condensation, polycond. & polyaddition  1\n",
      "Azerbaijan  Turkey  12636529  1  71839  Other food processing machines                   1\n",
      "Azerbaijan  Turkey  11540891  1  86171  Medical instruments & app.exc.electro medical    1\n",
      "Azerbaijan  Turkey  11018171  1  7231   Insulated wire and cable                         1\n",
      "Azerbaijan  Turkey  10214928  1  71952  Machine tools for working wood, plastics, etc.   1\n",
      "Azerbaijan  Turkey  9050230   2  51222  Other acyclic alcohols and derivatives           1\n",
      "Azerbaijan  Turkey  8762641   1  89211  Printed books,pamphlets,etc                      1\n",
      "Azerbaijan  Turkey  8274220   1  71912  Air conditioning machines                        1\n",
      "Azerbaijan  Turkey  8167209   1  6291   Rubber tyres & tubes for vehicles and aircraft   1\n",
      "Azerbaijan  Turkey  8032336   1  7323   Lorries and trucks, including ambulances, etc.   1\n",
      "Azerbaijan  Turkey  7768948   1  6912   Fin.structural parts & structures of aluminium   1\n"
     ]
    }
   ],
   "source": [
    "Azerbaijan=$(for file in $comtrade/2010e/*_31_792_*.json;\n",
    "do\n",
    "    jq -r '.dataset[] | select(.IsLeaf==1) |\n",
    "\"\\(.rtTitle)\\t\\(.ptTitle)\\t\\(.TradeValue)\\t\\(.rgCode)\\t\\(.cmdCode)\\t\\(.cmdDescE)\\t\\(.IsLeaf)\"' $file | \\\n",
    "xargs -0 -i echo -e \"{}\";\n",
    "done)\n",
    "\n",
    "\n",
    "echo \"$Azerbaijan\" | sort -t $'\\t' -nr -k 3 | column -s $'\\t' -t  | head -20"
   ]
  },
  {
   "cell_type": "code",
   "execution_count": 16,
   "metadata": {},
   "outputs": [
    {
     "name": "stdout",
     "output_type": "stream",
     "text": [
      "695  Tools for use in the hand or in machines\n",
      "711  Power generating machinery, other than electric\n",
      "712  Agricultural machinery and implements\n",
      "714  Office machines\n",
      "715  Metalworking machinery\n",
      "717  Textile and leather machinery\n",
      "718  Machines for special industries\n",
      "719  Machinery and appliances non electrical parts\n",
      "722  Electric power machinery and switchgear\n",
      "729  Other electrical machinery and apparatus\n"
     ]
    }
   ],
   "source": [
    "jq -r '.results[] | select((.id|test(\"^\\\\d+$\")) and (.text|test(\"(?i)Machine\"))) |\n",
    "select((.id|tonumber < 1000) and (.id|tonumber > 99)) | .text' \\\n",
    "$comtrade/classificationS1.json | \\\n",
    "sed 's/ - /\\t/g' | column -s $'\\t' -t"
   ]
  },
  {
   "cell_type": "raw",
   "metadata": {},
   "source": [
    "Above exercise is the products that have \"Machine\" text of codes."
   ]
  },
  {
   "cell_type": "raw",
   "metadata": {},
   "source": [
    "Now from all files for which Turkey is a reporter, the TradeValue of exports (rgCode is 2) in 695 code (Tools for use in the hand or in machines)"
   ]
  },
  {
   "cell_type": "code",
   "execution_count": 18,
   "metadata": {},
   "outputs": [
    {
     "name": "stdout",
     "output_type": "stream",
     "text": [
      "Bulgaria\t1174870\t148162\n",
      "\n"
     ]
    }
   ],
   "source": [
    "jq -r '.dataset[] | select(.cmdCode == \"695\" and .rgCode == 2) |\n",
    "\"\\(.ptTitle)\\t\\(.TradeValue)\\t\\(.TradeQuantity)\"' $comtrade/2010e/2010_792_100_s1.json | \\\n",
    "xargs -0 -i echo -e \"{}\""
   ]
  }
 ],
 "metadata": {
  "kernelspec": {
   "display_name": "Bash",
   "language": "bash",
   "name": "bash"
  },
  "language_info": {
   "codemirror_mode": "shell",
   "file_extension": ".sh",
   "mimetype": "text/x-sh",
   "name": "bash"
  },
  "sos": {
   "kernels": [],
   "panel": {
    "displayed": true,
    "height": 0,
    "style": "side"
   },
   "version": "0.17.2"
  },
  "toc": {
   "base_numbering": 1,
   "nav_menu": {},
   "number_sections": true,
   "sideBar": true,
   "skip_h1_title": false,
   "title_cell": "Table of Contents",
   "title_sidebar": "Contents",
   "toc_cell": false,
   "toc_position": {},
   "toc_section_display": "block",
   "toc_window_display": false
  }
 },
 "nbformat": 4,
 "nbformat_minor": 2
}
