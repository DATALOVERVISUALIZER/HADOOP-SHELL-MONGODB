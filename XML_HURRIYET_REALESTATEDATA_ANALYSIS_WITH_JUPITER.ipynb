{
 "cells": [
  {
   "cell_type": "markdown",
   "metadata": {
    "kernel": "SoS"
   },
   "source": [
    "# XML FILES"
   ]
  },
  {
   "cell_type": "markdown",
   "metadata": {
    "kernel": "SoS"
   },
   "source": [
    "**by Leyla Yiğit**"
   ]
  },
  {
   "cell_type": "markdown",
   "metadata": {
    "kernel": "Bash"
   },
   "source": [
    "## Working with XML/HTML Objects"
   ]
  },
  {
   "cell_type": "markdown",
   "metadata": {
    "kernel": "R"
   },
   "source": [
    "### Hurriyet  XML Query"
   ]
  },
  {
   "cell_type": "markdown",
   "metadata": {
    "kernel": "R"
   },
   "source": [
    "### A real XML/HTML dataset"
   ]
  },
  {
   "cell_type": "markdown",
   "metadata": {
    "kernel": "R"
   },
   "source": [
    "On the 2nd of December 2018, I scraped 994 realty listing pages of residences for sale in Mecidiyekoy, Sisli neighbourhood from www.hurriyetemlak.com"
   ]
  },
  {
   "cell_type": "code",
   "execution_count": 1,
   "metadata": {
    "kernel": "Bash"
   },
   "outputs": [],
   "source": [
    "datadir=~/data\n",
    "hemlak=$datadir/he_sisli"
   ]
  },
  {
   "cell_type": "code",
   "execution_count": 2,
   "metadata": {
    "kernel": "Bash"
   },
   "outputs": [
    {
     "name": "stdout",
     "output_type": "stream",
     "text": [
      "total 125848\n",
      "-rw-r--r-- 1 jovyan jovyan 122385 Dec 15 13:02 10005103\n",
      "-rw-r--r-- 1 jovyan jovyan 126480 Dec 15 13:02 1108042\n",
      "-rw-r--r-- 1 jovyan jovyan 116865 Dec 15 13:02 12497729\n",
      "-rw-r--r-- 1 jovyan jovyan 126636 Dec 15 13:02 12748522\n",
      "-rw-r--r-- 1 jovyan jovyan 113609 Dec 15 13:02 14363743\n",
      "-rw-r--r-- 1 jovyan jovyan 121665 Dec 15 13:02 1514239\n",
      "-rw-r--r-- 1 jovyan jovyan 126724 Dec 15 13:02 15395342\n",
      "-rw-r--r-- 1 jovyan jovyan 127307 Dec 15 13:02 16603754\n",
      "-rw-r--r-- 1 jovyan jovyan 126016 Dec 15 13:02 16723985\n",
      "ls: write error: Broken pipe\n"
     ]
    }
   ],
   "source": [
    "ls -l $hemlak | head"
   ]
  },
  {
   "cell_type": "markdown",
   "metadata": {
    "kernel": "Bash"
   },
   "source": [
    "Viewing the data "
   ]
  },
  {
   "cell_type": "code",
   "execution_count": null,
   "metadata": {},
   "outputs": [],
   "source": [
    "find $hemlak -mindepth 1 | head -1 | xargs cat"
   ]
  },
  {
   "cell_type": "markdown",
   "metadata": {
    "kernel": "Bash"
   },
   "source": [
    "An XML/HTMl parser can parse, pretty print, and traverse through the files.\n",
    "\n",
    "Xidel is highly performant:"
   ]
  },
  {
   "cell_type": "markdown",
   "metadata": {
    "kernel": "Bash"
   },
   "source": [
    "Another way to view an indented version of the XML/HTMl file might be:"
   ]
  },
  {
   "cell_type": "code",
   "execution_count": null,
   "metadata": {},
   "outputs": [],
   "source": [
    "find $hemlak -mindepth 1 | head -1 | xargs -i xidel --input-format html --output-format html -e \"/\" {}"
   ]
  },
  {
   "cell_type": "markdown",
   "metadata": {
    "kernel": "R"
   },
   "source": [
    "### Extract tables from XML/HTML"
   ]
  },
  {
   "cell_type": "markdown",
   "metadata": {
    "kernel": "R"
   },
   "source": [
    "We will extract all the information to the left of the picture in a listing as a table using R"
   ]
  },
  {
   "cell_type": "markdown",
   "metadata": {
    "kernel": "Bash"
   },
   "source": [
    "First parse the file as html:"
   ]
  },
  {
   "cell_type": "markdown",
   "metadata": {
    "kernel": "R"
   },
   "source": [
    "The houses that avaible for loan."
   ]
  },
  {
   "cell_type": "code",
   "execution_count": null,
   "metadata": {
    "kernel": "R"
   },
   "outputs": [],
   "source": [
    "he_kredi=$(for i in $hemlak/*; do \\\n",
    "kredi=$(xidel --input-format html --output-format adhoc -e \\\n",
    "\"//div[@class='realty-details realty-details-right clearfix']/ul[@class='clearfix']//span[text()='Krediye Uygunluk']/following-sibling::span/text()\" \\\n",
    "$i 2> /dev/null);\n",
    "if [[ -z $kredi ]]; then echo NA; else echo $kredi; fi;\n",
    "done)\n"
   ]
  },
  {
   "cell_type": "code",
   "execution_count": 14,
   "metadata": {},
   "outputs": [
    {
     "ename": "ERROR",
     "evalue": "Error in parse(text = x, srcfile = src): <text>:1:6: unexpected string constant\n1: echo \"$he_kredi\"\n         ^\n",
     "output_type": "error",
     "traceback": [
      "Error in parse(text = x, srcfile = src): <text>:1:6: unexpected string constant\n1: echo \"$he_kredi\"\n         ^\nTraceback:\n"
     ]
    }
   ],
   "source": [
    "echo \"$he_kredi\" | column -s $'\\t' -t"
   ]
  },
  {
   "cell_type": "raw",
   "metadata": {},
   "source": [
    "data scture"
   ]
  },
  {
   "cell_type": "raw",
   "metadata": {},
   "source": [
    "I want to see the relationship between avaibility of credits and prices.I think advance payment should cost less pricess for homes "
   ]
  },
  {
   "cell_type": "code",
   "execution_count": 7,
   "metadata": {},
   "outputs": [],
   "source": [
    "he_prices=$(for i in $hemlak/*; do \\\n",
    "xidel --input-format html --output-format adhoc -e \\\n",
    "\"//div[@class='realty-details realty-details-right clearfix']/ul[@class='clearfix']/li[@class='price-line clearfix']/span/text()\" \\\n",
    "$i 2> /dev/null | \\\n",
    "tr -d \".\" | grep -Po \"\\d+\";\n",
    "done)"
   ]
  },
  {
   "cell_type": "code",
   "execution_count": 8,
   "metadata": {},
   "outputs": [
    {
     "name": "stdout",
     "output_type": "stream",
     "text": [
      "994\n"
     ]
    }
   ],
   "source": [
    "echo \"$he_prices\" | wc -l"
   ]
  },
  {
   "cell_type": "code",
   "execution_count": 9,
   "metadata": {},
   "outputs": [
    {
     "name": "stdout",
     "output_type": "stream",
     "text": [
      "690000\n",
      "440000\n",
      "490000\n",
      "580000\n",
      "645000\n",
      "420000\n",
      "160000\n",
      "382000\n",
      "360000\n",
      "450000\n"
     ]
    }
   ],
   "source": [
    "echo \"$he_prices\" | head -10"
   ]
  },
  {
   "cell_type": "raw",
   "metadata": {},
   "source": [
    "I see data properties below. Let's combine these two data(credit avaibility and prices) to analize"
   ]
  },
  {
   "cell_type": "code",
   "execution_count": 10,
   "metadata": {},
   "outputs": [],
   "source": [
    "selected_info=$(paste <((echo \"$he_prices\")) \\\n",
    "<(echo \"$he_kredi\") --delimiters \"\\t\")"
   ]
  },
  {
   "cell_type": "code",
   "execution_count": 19,
   "metadata": {},
   "outputs": [
    {
     "name": "stdout",
     "output_type": "stream",
     "text": [
      "690000\tUygun\n",
      "440000\tUygun\n",
      "490000\tUygun\n",
      "580000\tUygun\n",
      "645000\tUygun\n",
      "420000\tUygun\n",
      "160000\tUygun değil\n",
      "382000\tUygun\n",
      "360000\tUygun\n",
      "450000\tUygun değil\n",
      "480000\tUygun\n",
      "200000\tUygun değil\n",
      "300000\tUygun değil\n",
      "250000\tUygun değil\n",
      "900000\tUygun\n",
      "300000\tUygun değil\n",
      "425000\tUygun\n",
      "410000\tUygun\n",
      "595000\tUygun\n",
      "300000\tUygun değil\n"
     ]
    }
   ],
   "source": [
    "echo \"$selected_info\" | head -20"
   ]
  },
  {
   "cell_type": "code",
   "execution_count": 20,
   "metadata": {},
   "outputs": [
    {
     "name": "stdout",
     "output_type": "stream",
     "text": [
      "bash: Actually: command not found\n"
     ]
    },
    {
     "ename": "",
     "evalue": "127",
     "output_type": "error",
     "traceback": []
    }
   ],
   "source": [
    "Actually there is no enough analysis to decide to hypothesis. It seems that, prices does not directly affected credit avaibility. \n",
    "The houses that does not have credit avaibility seems cheaper but, other variables should have been considered. Therefore, I want to analyze situationofbuilding and age also."
   ]
  },
  {
   "cell_type": "code",
   "execution_count": 38,
   "metadata": {},
   "outputs": [],
   "source": [
    "he_situation=$(for i in $hemlak/*; do \\\n",
    "yapinindurumu=$(xidel --input-format html --output-format adhoc -e \\\n",
    "\"//div[@class='realty-details realty-details-right clearfix']/ul[@class='clearfix']//span[text()='Yapının Durumu']/following-sibling::span/text()\" \\\n",
    "$i 2> /dev/null);\n",
    "if [[ -z $yapinindurumu ]]; then echo NA; else echo $yapinindurumu; fi;\n",
    "done)"
   ]
  },
  {
   "cell_type": "code",
   "execution_count": 22,
   "metadata": {},
   "outputs": [
    {
     "name": "stdout",
     "output_type": "stream",
     "text": [
      "İkinci El\n",
      "İkinci El\n",
      "Sıfır\n",
      "İkinci El\n",
      "İkinci El\n",
      "NA\n",
      "İkinci El\n",
      "İkinci El\n",
      "Sıfır\n",
      "İkinci El\n"
     ]
    }
   ],
   "source": [
    "echo \"$he_yapinindurumu\" | head -10"
   ]
  },
  {
   "cell_type": "code",
   "execution_count": 23,
   "metadata": {},
   "outputs": [],
   "source": [
    "he_age=$(for i in $hemlak/*; do \\\n",
    "age=$(xidel --input-format html --output-format adhoc -e \\\n",
    "\"//div[@class='realty-details realty-details-right clearfix']/ul[@class='clearfix']//span[text()='Bina Yaşı']/following-sibling::span/text()\" \\\n",
    "$i 2> /dev/null);\n",
    "if [[ -z $age ]]; then echo NA; else echo $age; fi;\n",
    "done)\n"
   ]
  },
  {
   "cell_type": "code",
   "execution_count": 24,
   "metadata": {},
   "outputs": [
    {
     "name": "stdout",
     "output_type": "stream",
     "text": [
      "20\n",
      "24\n",
      "3\n",
      "38\n",
      "20\n",
      "25\n",
      "20\n",
      "10\n",
      "0\n",
      "15\n"
     ]
    }
   ],
   "source": [
    "echo \"$he_age\" | head -10"
   ]
  },
  {
   "cell_type": "raw",
   "metadata": {},
   "source": [
    "Combine four variables to analyze: age,situationofbulding,creditavaibility and price. Does a correlation exist between them."
   ]
  },
  {
   "cell_type": "code",
   "execution_count": 39,
   "metadata": {},
   "outputs": [],
   "source": [
    "selected_info=$(paste <(ls $hemlak) <(echo \"$he_prices\") <(echo \"$he_situation\") \\\n",
    "<(echo \"$he_kredi\") <(echo \"$he_age\") --delimiters \"\\t\")"
   ]
  },
  {
   "cell_type": "code",
   "execution_count": null,
   "metadata": {},
   "outputs": [],
   "source": [
    "save data in a csv file , proper result"
   ]
  },
  {
   "cell_type": "code",
   "execution_count": 44,
   "metadata": {},
   "outputs": [
    {
     "name": "stdout",
     "output_type": "stream",
     "text": [
      "10005103  690000    İkinci El         Uygun        20\n",
      "1108042   440000    İkinci El         Uygun        24\n",
      "12497729  490000    Sıfır             Uygun        3\n",
      "12748522  580000    İkinci El         Uygun        38\n",
      "14363743  645000    İkinci El         Uygun        20\n",
      "1514239   420000    NA                Uygun        25\n",
      "15395342  160000    İkinci El         Uygun değil  20\n",
      "16603754  382000    İkinci El         Uygun        10\n",
      "16723985  360000    Sıfır             Uygun        0\n",
      "17462287  450000    İkinci El         Uygun değil  15\n"
     ]
    }
   ],
   "source": [
    "echo \"$selected_info\" | column -s $'\\t' -t | head -10"
   ]
  },
  {
   "cell_type": "code",
   "execution_count": 1,
   "metadata": {},
   "outputs": [],
   "source": [
    "selected_info <- read.delim(\"selected_info.tsv\", header = F)"
   ]
  },
  {
   "cell_type": "code",
   "execution_count": 2,
   "metadata": {},
   "outputs": [
    {
     "name": "stdout",
     "output_type": "stream",
     "text": [
      "'data.frame':\t994 obs. of  5 variables:\n",
      " $ V1: int  10005103 1108042 12497729 12748522 14363743 1514239 15395342 16603754 16723985 17462287 ...\n",
      " $ V2: int  690000 440000 490000 580000 645000 420000 160000 382000 360000 450000 ...\n",
      " $ V3: Factor w/ 3 levels \"S\\304\\261f\\304\\261r\",..: 3 3 1 3 3 NA 3 3 1 3 ...\n",
      " $ V4: Factor w/ 3 levels \"Bilinmiyor\",\"Uygun\",..: 2 2 2 2 2 2 3 2 2 3 ...\n",
      " $ V5: int  20 24 3 38 20 25 20 10 0 15 ...\n"
     ]
    }
   ],
   "source": [
    "str(selected_info)"
   ]
  },
  {
   "cell_type": "code",
   "execution_count": 3,
   "metadata": {},
   "outputs": [],
   "source": [
    "selected_info_na <- na.omit(selected_info)"
   ]
  },
  {
   "cell_type": "code",
   "execution_count": 4,
   "metadata": {},
   "outputs": [
    {
     "data": {
      "text/html": [
       "<table>\n",
       "<thead><tr><th></th><th scope=col>V1</th><th scope=col>V2</th><th scope=col>V3</th><th scope=col>V4</th><th scope=col>V5</th></tr></thead>\n",
       "<tbody>\n",
       "\t<tr><th scope=row>1</th><td>10005103           </td><td> 690000            </td><td><c4><b0>kinci El   </td><td>Uygun              </td><td>20                 </td></tr>\n",
       "\t<tr><th scope=row>2</th><td> 1108042           </td><td> 440000            </td><td><c4><b0>kinci El   </td><td>Uygun              </td><td>24                 </td></tr>\n",
       "\t<tr><th scope=row>3</th><td>12497729           </td><td> 490000            </td><td>S<c4><b1>f<c4><b1>r</td><td>Uygun              </td><td> 3                 </td></tr>\n",
       "\t<tr><th scope=row>4</th><td>12748522           </td><td> 580000            </td><td><c4><b0>kinci El   </td><td>Uygun              </td><td>38                 </td></tr>\n",
       "\t<tr><th scope=row>5</th><td>14363743           </td><td> 645000            </td><td><c4><b0>kinci El   </td><td>Uygun              </td><td>20                 </td></tr>\n",
       "\t<tr><th scope=row>7</th><td>15395342           </td><td> 160000            </td><td><c4><b0>kinci El   </td><td>Uygun de<c4><9f>il </td><td>20                 </td></tr>\n",
       "\t<tr><th scope=row>8</th><td>16603754           </td><td> 382000            </td><td><c4><b0>kinci El   </td><td>Uygun              </td><td>10                 </td></tr>\n",
       "\t<tr><th scope=row>9</th><td>16723985           </td><td> 360000            </td><td>S<c4><b1>f<c4><b1>r</td><td>Uygun              </td><td> 0                 </td></tr>\n",
       "\t<tr><th scope=row>10</th><td>17462287           </td><td> 450000            </td><td><c4><b0>kinci El   </td><td>Uygun de<c4><9f>il </td><td>15                 </td></tr>\n",
       "\t<tr><th scope=row>11</th><td>17697337           </td><td> 480000            </td><td><c4><b0>kinci El   </td><td>Uygun              </td><td> 0                 </td></tr>\n",
       "\t<tr><th scope=row>12</th><td>17713682           </td><td> 200000            </td><td><c4><b0>kinci El   </td><td>Uygun de<c4><9f>il </td><td> 6                 </td></tr>\n",
       "\t<tr><th scope=row>13</th><td>17909432           </td><td> 300000            </td><td><c4><b0>kinci El   </td><td>Uygun de<c4><9f>il </td><td>14                 </td></tr>\n",
       "\t<tr><th scope=row>14</th><td>18230322           </td><td> 250000            </td><td><c4><b0>kinci El   </td><td>Uygun de<c4><9f>il </td><td>10                 </td></tr>\n",
       "\t<tr><th scope=row>15</th><td>18248561           </td><td> 900000            </td><td><c4><b0>kinci El   </td><td>Uygun              </td><td> 3                 </td></tr>\n",
       "\t<tr><th scope=row>16</th><td>18579922           </td><td> 300000            </td><td><c4><b0>kinci El   </td><td>Uygun de<c4><9f>il </td><td> 8                 </td></tr>\n",
       "\t<tr><th scope=row>17</th><td>18609188           </td><td> 425000            </td><td>S<c4><b1>f<c4><b1>r</td><td>Uygun              </td><td> 2                 </td></tr>\n",
       "\t<tr><th scope=row>18</th><td>18658896           </td><td> 410000            </td><td>S<c4><b1>f<c4><b1>r</td><td>Uygun              </td><td> 5                 </td></tr>\n",
       "\t<tr><th scope=row>19</th><td>18885413           </td><td> 595000            </td><td><c4><b0>kinci El   </td><td>Uygun              </td><td>25                 </td></tr>\n",
       "\t<tr><th scope=row>20</th><td>18967739           </td><td> 300000            </td><td><c4><b0>kinci El   </td><td>Uygun de<c4><9f>il </td><td>16                 </td></tr>\n",
       "\t<tr><th scope=row>21</th><td>18967894           </td><td> 400000            </td><td><c4><b0>kinci El   </td><td>Uygun de<c4><9f>il </td><td>16                 </td></tr>\n",
       "\t<tr><th scope=row>22</th><td>19197278           </td><td> 580000            </td><td><c4><b0>kinci El   </td><td>Uygun              </td><td>25                 </td></tr>\n",
       "\t<tr><th scope=row>23</th><td>19644320           </td><td> 235000            </td><td>S<c4><b1>f<c4><b1>r</td><td>Uygun              </td><td> 0                 </td></tr>\n",
       "\t<tr><th scope=row>24</th><td>19773812           </td><td> 500000            </td><td><c4><b0>kinci El   </td><td>Uygun              </td><td>25                 </td></tr>\n",
       "\t<tr><th scope=row>25</th><td>19827759           </td><td> 500000            </td><td>S<c4><b1>f<c4><b1>r</td><td>Uygun              </td><td> 0                 </td></tr>\n",
       "\t<tr><th scope=row>26</th><td>19967666           </td><td> 750000            </td><td><c4><b0>kinci El   </td><td>Uygun              </td><td>25                 </td></tr>\n",
       "\t<tr><th scope=row>27</th><td>19978227           </td><td> 750000            </td><td><c4><b0>kinci El   </td><td>Uygun              </td><td>25                 </td></tr>\n",
       "\t<tr><th scope=row>29</th><td>20077369           </td><td> 300000            </td><td><c4><b0>kinci El   </td><td>Uygun de<c4><9f>il </td><td>10                 </td></tr>\n",
       "\t<tr><th scope=row>30</th><td>20144528           </td><td>2000000            </td><td><c4><b0>kinci El   </td><td>Uygun              </td><td>10                 </td></tr>\n",
       "\t<tr><th scope=row>31</th><td>20160243           </td><td> 850000            </td><td>S<c4><b1>f<c4><b1>r</td><td>Uygun              </td><td> 0                 </td></tr>\n",
       "\t<tr><th scope=row>32</th><td>20230917           </td><td> 325000            </td><td><c4><b0>kinci El   </td><td>Uygun de<c4><9f>il </td><td>15                 </td></tr>\n",
       "\t<tr><th scope=row>...</th><td>...</td><td>...</td><td>...</td><td>...</td><td>...</td></tr>\n",
       "\t<tr><th scope=row>964</th><td>32342966           </td><td>350000             </td><td><c4><b0>kinci El   </td><td>Uygun de<c4><9f>il </td><td>20                 </td></tr>\n",
       "\t<tr><th scope=row>965</th><td>32343061           </td><td>650000             </td><td><c4><b0>kinci El   </td><td>Uygun              </td><td>32                 </td></tr>\n",
       "\t<tr><th scope=row>966</th><td>32343150           </td><td>250000             </td><td><c4><b0>kinci El   </td><td>Uygun de<c4><9f>il </td><td>15                 </td></tr>\n",
       "\t<tr><th scope=row>967</th><td>32344013           </td><td>690000             </td><td><c4><b0>kinci El   </td><td>Uygun              </td><td>35                 </td></tr>\n",
       "\t<tr><th scope=row>968</th><td>32344636           </td><td>350000             </td><td><c4><b0>kinci El   </td><td>Uygun de<c4><9f>il </td><td>20                 </td></tr>\n",
       "\t<tr><th scope=row>969</th><td>32345345           </td><td>780000             </td><td><c4><b0>kinci El   </td><td>Uygun              </td><td>35                 </td></tr>\n",
       "\t<tr><th scope=row>970</th><td>32345818           </td><td>550000             </td><td><c4><b0>kinci El   </td><td>Uygun              </td><td>35                 </td></tr>\n",
       "\t<tr><th scope=row>971</th><td>32346144           </td><td>500000             </td><td><c4><b0>kinci El   </td><td>Uygun              </td><td>28                 </td></tr>\n",
       "\t<tr><th scope=row>972</th><td>32347940           </td><td>360000             </td><td><c4><b0>kinci El   </td><td>Uygun de<c4><9f>il </td><td>20                 </td></tr>\n",
       "\t<tr><th scope=row>973</th><td>32348215           </td><td>228000             </td><td><c4><b0>kinci El   </td><td>Uygun              </td><td> 5                 </td></tr>\n",
       "\t<tr><th scope=row>974</th><td>32349724           </td><td>170000             </td><td><c4><b0>kinci El   </td><td>Uygun de<c4><9f>il </td><td>20                 </td></tr>\n",
       "\t<tr><th scope=row>975</th><td>32349820           </td><td>455000             </td><td>S<c4><b1>f<c4><b1>r</td><td>Uygun              </td><td>25                 </td></tr>\n",
       "\t<tr><th scope=row>976</th><td>32351910           </td><td>310000             </td><td>S<c4><b1>f<c4><b1>r</td><td>Uygun              </td><td> 5                 </td></tr>\n",
       "\t<tr><th scope=row>977</th><td>32352748           </td><td>500000             </td><td><c4><b0>kinci El   </td><td>Uygun de<c4><9f>il </td><td>18                 </td></tr>\n",
       "\t<tr><th scope=row>978</th><td>32352846           </td><td>560000             </td><td>S<c4><b1>f<c4><b1>r</td><td>Uygun              </td><td> 0                 </td></tr>\n",
       "\t<tr><th scope=row>979</th><td>32356095           </td><td>310000             </td><td><c4><b0>kinci El   </td><td>Uygun              </td><td>26                 </td></tr>\n",
       "\t<tr><th scope=row>980</th><td>32357493           </td><td>315000             </td><td>S<c4><b1>f<c4><b1>r</td><td>Uygun              </td><td> 0                 </td></tr>\n",
       "\t<tr><th scope=row>981</th><td>32359289           </td><td>575000             </td><td><c4><b0>kinci El   </td><td>Uygun              </td><td>28                 </td></tr>\n",
       "\t<tr><th scope=row>982</th><td>32359568           </td><td>249000             </td><td>S<c4><b1>f<c4><b1>r</td><td>Uygun              </td><td> 0                 </td></tr>\n",
       "\t<tr><th scope=row>983</th><td>32360019           </td><td>500000             </td><td><c4><b0>kinci El   </td><td>Uygun              </td><td>20                 </td></tr>\n",
       "\t<tr><th scope=row>984</th><td>32362169           </td><td>275000             </td><td><c4><b0>kinci El   </td><td>Uygun              </td><td> 4                 </td></tr>\n",
       "\t<tr><th scope=row>985</th><td>32362840           </td><td>650000             </td><td><c4><b0>kinci El   </td><td>Uygun              </td><td>22                 </td></tr>\n",
       "\t<tr><th scope=row>986</th><td>32364656           </td><td>400000             </td><td><c4><b0>kinci El   </td><td>Uygun de<c4><9f>il </td><td>20                 </td></tr>\n",
       "\t<tr><th scope=row>987</th><td>32364700           </td><td>400000             </td><td><c4><b0>kinci El   </td><td>Uygun de<c4><9f>il </td><td>20                 </td></tr>\n",
       "\t<tr><th scope=row>988</th><td>32364751           </td><td>890000             </td><td><c4><b0>kinci El   </td><td>Uygun              </td><td>40                 </td></tr>\n",
       "\t<tr><th scope=row>989</th><td>32365559           </td><td>415000             </td><td><c4><b0>kinci El   </td><td>Uygun de<c4><9f>il </td><td>18                 </td></tr>\n",
       "\t<tr><th scope=row>990</th><td> 4430826           </td><td>800000             </td><td><c4><b0>kinci El   </td><td>Uygun              </td><td>30                 </td></tr>\n",
       "\t<tr><th scope=row>991</th><td> 5429535           </td><td>900000             </td><td><c4><b0>kinci El   </td><td>Uygun              </td><td>28                 </td></tr>\n",
       "\t<tr><th scope=row>992</th><td> 6886082           </td><td>500000             </td><td><c4><b0>kinci El   </td><td>Uygun              </td><td>30                 </td></tr>\n",
       "\t<tr><th scope=row>993</th><td> 7313733           </td><td>900000             </td><td><c4><b0>kinci El   </td><td>Uygun              </td><td>28                 </td></tr>\n",
       "</tbody>\n",
       "</table>\n"
      ],
      "text/latex": [
       "\\begin{tabular}{r|lllll}\n",
       "  & V1 & V2 & V3 & V4 & V5\\\\\n",
       "\\hline\n",
       "\t1 & 10005103            &  690000             & <c4><b0>kinci El    & Uygun               & 20                 \\\\\n",
       "\t2 &  1108042            &  440000             & <c4><b0>kinci El    & Uygun               & 24                 \\\\\n",
       "\t3 & 12497729            &  490000             & S<c4><b1>f<c4><b1>r & Uygun               &  3                 \\\\\n",
       "\t4 & 12748522            &  580000             & <c4><b0>kinci El    & Uygun               & 38                 \\\\\n",
       "\t5 & 14363743            &  645000             & <c4><b0>kinci El    & Uygun               & 20                 \\\\\n",
       "\t7 & 15395342            &  160000             & <c4><b0>kinci El    & Uygun de<c4><9f>il  & 20                 \\\\\n",
       "\t8 & 16603754            &  382000             & <c4><b0>kinci El    & Uygun               & 10                 \\\\\n",
       "\t9 & 16723985            &  360000             & S<c4><b1>f<c4><b1>r & Uygun               &  0                 \\\\\n",
       "\t10 & 17462287            &  450000             & <c4><b0>kinci El    & Uygun de<c4><9f>il  & 15                 \\\\\n",
       "\t11 & 17697337            &  480000             & <c4><b0>kinci El    & Uygun               &  0                 \\\\\n",
       "\t12 & 17713682            &  200000             & <c4><b0>kinci El    & Uygun de<c4><9f>il  &  6                 \\\\\n",
       "\t13 & 17909432            &  300000             & <c4><b0>kinci El    & Uygun de<c4><9f>il  & 14                 \\\\\n",
       "\t14 & 18230322            &  250000             & <c4><b0>kinci El    & Uygun de<c4><9f>il  & 10                 \\\\\n",
       "\t15 & 18248561            &  900000             & <c4><b0>kinci El    & Uygun               &  3                 \\\\\n",
       "\t16 & 18579922            &  300000             & <c4><b0>kinci El    & Uygun de<c4><9f>il  &  8                 \\\\\n",
       "\t17 & 18609188            &  425000             & S<c4><b1>f<c4><b1>r & Uygun               &  2                 \\\\\n",
       "\t18 & 18658896            &  410000             & S<c4><b1>f<c4><b1>r & Uygun               &  5                 \\\\\n",
       "\t19 & 18885413            &  595000             & <c4><b0>kinci El    & Uygun               & 25                 \\\\\n",
       "\t20 & 18967739            &  300000             & <c4><b0>kinci El    & Uygun de<c4><9f>il  & 16                 \\\\\n",
       "\t21 & 18967894            &  400000             & <c4><b0>kinci El    & Uygun de<c4><9f>il  & 16                 \\\\\n",
       "\t22 & 19197278            &  580000             & <c4><b0>kinci El    & Uygun               & 25                 \\\\\n",
       "\t23 & 19644320            &  235000             & S<c4><b1>f<c4><b1>r & Uygun               &  0                 \\\\\n",
       "\t24 & 19773812            &  500000             & <c4><b0>kinci El    & Uygun               & 25                 \\\\\n",
       "\t25 & 19827759            &  500000             & S<c4><b1>f<c4><b1>r & Uygun               &  0                 \\\\\n",
       "\t26 & 19967666            &  750000             & <c4><b0>kinci El    & Uygun               & 25                 \\\\\n",
       "\t27 & 19978227            &  750000             & <c4><b0>kinci El    & Uygun               & 25                 \\\\\n",
       "\t29 & 20077369            &  300000             & <c4><b0>kinci El    & Uygun de<c4><9f>il  & 10                 \\\\\n",
       "\t30 & 20144528            & 2000000             & <c4><b0>kinci El    & Uygun               & 10                 \\\\\n",
       "\t31 & 20160243            &  850000             & S<c4><b1>f<c4><b1>r & Uygun               &  0                 \\\\\n",
       "\t32 & 20230917            &  325000             & <c4><b0>kinci El    & Uygun de<c4><9f>il  & 15                 \\\\\n",
       "\t... & ... & ... & ... & ... & ...\\\\\n",
       "\t964 & 32342966            & 350000              & <c4><b0>kinci El    & Uygun de<c4><9f>il  & 20                 \\\\\n",
       "\t965 & 32343061            & 650000              & <c4><b0>kinci El    & Uygun               & 32                 \\\\\n",
       "\t966 & 32343150            & 250000              & <c4><b0>kinci El    & Uygun de<c4><9f>il  & 15                 \\\\\n",
       "\t967 & 32344013            & 690000              & <c4><b0>kinci El    & Uygun               & 35                 \\\\\n",
       "\t968 & 32344636            & 350000              & <c4><b0>kinci El    & Uygun de<c4><9f>il  & 20                 \\\\\n",
       "\t969 & 32345345            & 780000              & <c4><b0>kinci El    & Uygun               & 35                 \\\\\n",
       "\t970 & 32345818            & 550000              & <c4><b0>kinci El    & Uygun               & 35                 \\\\\n",
       "\t971 & 32346144            & 500000              & <c4><b0>kinci El    & Uygun               & 28                 \\\\\n",
       "\t972 & 32347940            & 360000              & <c4><b0>kinci El    & Uygun de<c4><9f>il  & 20                 \\\\\n",
       "\t973 & 32348215            & 228000              & <c4><b0>kinci El    & Uygun               &  5                 \\\\\n",
       "\t974 & 32349724            & 170000              & <c4><b0>kinci El    & Uygun de<c4><9f>il  & 20                 \\\\\n",
       "\t975 & 32349820            & 455000              & S<c4><b1>f<c4><b1>r & Uygun               & 25                 \\\\\n",
       "\t976 & 32351910            & 310000              & S<c4><b1>f<c4><b1>r & Uygun               &  5                 \\\\\n",
       "\t977 & 32352748            & 500000              & <c4><b0>kinci El    & Uygun de<c4><9f>il  & 18                 \\\\\n",
       "\t978 & 32352846            & 560000              & S<c4><b1>f<c4><b1>r & Uygun               &  0                 \\\\\n",
       "\t979 & 32356095            & 310000              & <c4><b0>kinci El    & Uygun               & 26                 \\\\\n",
       "\t980 & 32357493            & 315000              & S<c4><b1>f<c4><b1>r & Uygun               &  0                 \\\\\n",
       "\t981 & 32359289            & 575000              & <c4><b0>kinci El    & Uygun               & 28                 \\\\\n",
       "\t982 & 32359568            & 249000              & S<c4><b1>f<c4><b1>r & Uygun               &  0                 \\\\\n",
       "\t983 & 32360019            & 500000              & <c4><b0>kinci El    & Uygun               & 20                 \\\\\n",
       "\t984 & 32362169            & 275000              & <c4><b0>kinci El    & Uygun               &  4                 \\\\\n",
       "\t985 & 32362840            & 650000              & <c4><b0>kinci El    & Uygun               & 22                 \\\\\n",
       "\t986 & 32364656            & 400000              & <c4><b0>kinci El    & Uygun de<c4><9f>il  & 20                 \\\\\n",
       "\t987 & 32364700            & 400000              & <c4><b0>kinci El    & Uygun de<c4><9f>il  & 20                 \\\\\n",
       "\t988 & 32364751            & 890000              & <c4><b0>kinci El    & Uygun               & 40                 \\\\\n",
       "\t989 & 32365559            & 415000              & <c4><b0>kinci El    & Uygun de<c4><9f>il  & 18                 \\\\\n",
       "\t990 &  4430826            & 800000              & <c4><b0>kinci El    & Uygun               & 30                 \\\\\n",
       "\t991 &  5429535            & 900000              & <c4><b0>kinci El    & Uygun               & 28                 \\\\\n",
       "\t992 &  6886082            & 500000              & <c4><b0>kinci El    & Uygun               & 30                 \\\\\n",
       "\t993 &  7313733            & 900000              & <c4><b0>kinci El    & Uygun               & 28                 \\\\\n",
       "\\end{tabular}\n"
      ],
      "text/markdown": [
       "\n",
       "| <!--/--> | V1 | V2 | V3 | V4 | V5 | \n",
       "|---|---|---|---|---|---|---|---|---|---|---|---|---|---|---|---|---|---|---|---|---|---|---|---|---|---|---|---|---|---|---|---|---|---|---|---|---|---|---|---|---|---|---|---|---|---|---|---|---|---|---|---|---|---|---|---|---|---|---|---|---|\n",
       "| 1 | 10005103            |  690000             | <c4><b0>kinci El    | Uygun               | 20                  | \n",
       "| 2 |  1108042            |  440000             | <c4><b0>kinci El    | Uygun               | 24                  | \n",
       "| 3 | 12497729            |  490000             | S<c4><b1>f<c4><b1>r | Uygun               |  3                  | \n",
       "| 4 | 12748522            |  580000             | <c4><b0>kinci El    | Uygun               | 38                  | \n",
       "| 5 | 14363743            |  645000             | <c4><b0>kinci El    | Uygun               | 20                  | \n",
       "| 7 | 15395342            |  160000             | <c4><b0>kinci El    | Uygun de<c4><9f>il  | 20                  | \n",
       "| 8 | 16603754            |  382000             | <c4><b0>kinci El    | Uygun               | 10                  | \n",
       "| 9 | 16723985            |  360000             | S<c4><b1>f<c4><b1>r | Uygun               |  0                  | \n",
       "| 10 | 17462287            |  450000             | <c4><b0>kinci El    | Uygun de<c4><9f>il  | 15                  | \n",
       "| 11 | 17697337            |  480000             | <c4><b0>kinci El    | Uygun               |  0                  | \n",
       "| 12 | 17713682            |  200000             | <c4><b0>kinci El    | Uygun de<c4><9f>il  |  6                  | \n",
       "| 13 | 17909432            |  300000             | <c4><b0>kinci El    | Uygun de<c4><9f>il  | 14                  | \n",
       "| 14 | 18230322            |  250000             | <c4><b0>kinci El    | Uygun de<c4><9f>il  | 10                  | \n",
       "| 15 | 18248561            |  900000             | <c4><b0>kinci El    | Uygun               |  3                  | \n",
       "| 16 | 18579922            |  300000             | <c4><b0>kinci El    | Uygun de<c4><9f>il  |  8                  | \n",
       "| 17 | 18609188            |  425000             | S<c4><b1>f<c4><b1>r | Uygun               |  2                  | \n",
       "| 18 | 18658896            |  410000             | S<c4><b1>f<c4><b1>r | Uygun               |  5                  | \n",
       "| 19 | 18885413            |  595000             | <c4><b0>kinci El    | Uygun               | 25                  | \n",
       "| 20 | 18967739            |  300000             | <c4><b0>kinci El    | Uygun de<c4><9f>il  | 16                  | \n",
       "| 21 | 18967894            |  400000             | <c4><b0>kinci El    | Uygun de<c4><9f>il  | 16                  | \n",
       "| 22 | 19197278            |  580000             | <c4><b0>kinci El    | Uygun               | 25                  | \n",
       "| 23 | 19644320            |  235000             | S<c4><b1>f<c4><b1>r | Uygun               |  0                  | \n",
       "| 24 | 19773812            |  500000             | <c4><b0>kinci El    | Uygun               | 25                  | \n",
       "| 25 | 19827759            |  500000             | S<c4><b1>f<c4><b1>r | Uygun               |  0                  | \n",
       "| 26 | 19967666            |  750000             | <c4><b0>kinci El    | Uygun               | 25                  | \n",
       "| 27 | 19978227            |  750000             | <c4><b0>kinci El    | Uygun               | 25                  | \n",
       "| 29 | 20077369            |  300000             | <c4><b0>kinci El    | Uygun de<c4><9f>il  | 10                  | \n",
       "| 30 | 20144528            | 2000000             | <c4><b0>kinci El    | Uygun               | 10                  | \n",
       "| 31 | 20160243            |  850000             | S<c4><b1>f<c4><b1>r | Uygun               |  0                  | \n",
       "| 32 | 20230917            |  325000             | <c4><b0>kinci El    | Uygun de<c4><9f>il  | 15                  | \n",
       "| ... | ... | ... | ... | ... | ... | \n",
       "| 964 | 32342966            | 350000              | <c4><b0>kinci El    | Uygun de<c4><9f>il  | 20                  | \n",
       "| 965 | 32343061            | 650000              | <c4><b0>kinci El    | Uygun               | 32                  | \n",
       "| 966 | 32343150            | 250000              | <c4><b0>kinci El    | Uygun de<c4><9f>il  | 15                  | \n",
       "| 967 | 32344013            | 690000              | <c4><b0>kinci El    | Uygun               | 35                  | \n",
       "| 968 | 32344636            | 350000              | <c4><b0>kinci El    | Uygun de<c4><9f>il  | 20                  | \n",
       "| 969 | 32345345            | 780000              | <c4><b0>kinci El    | Uygun               | 35                  | \n",
       "| 970 | 32345818            | 550000              | <c4><b0>kinci El    | Uygun               | 35                  | \n",
       "| 971 | 32346144            | 500000              | <c4><b0>kinci El    | Uygun               | 28                  | \n",
       "| 972 | 32347940            | 360000              | <c4><b0>kinci El    | Uygun de<c4><9f>il  | 20                  | \n",
       "| 973 | 32348215            | 228000              | <c4><b0>kinci El    | Uygun               |  5                  | \n",
       "| 974 | 32349724            | 170000              | <c4><b0>kinci El    | Uygun de<c4><9f>il  | 20                  | \n",
       "| 975 | 32349820            | 455000              | S<c4><b1>f<c4><b1>r | Uygun               | 25                  | \n",
       "| 976 | 32351910            | 310000              | S<c4><b1>f<c4><b1>r | Uygun               |  5                  | \n",
       "| 977 | 32352748            | 500000              | <c4><b0>kinci El    | Uygun de<c4><9f>il  | 18                  | \n",
       "| 978 | 32352846            | 560000              | S<c4><b1>f<c4><b1>r | Uygun               |  0                  | \n",
       "| 979 | 32356095            | 310000              | <c4><b0>kinci El    | Uygun               | 26                  | \n",
       "| 980 | 32357493            | 315000              | S<c4><b1>f<c4><b1>r | Uygun               |  0                  | \n",
       "| 981 | 32359289            | 575000              | <c4><b0>kinci El    | Uygun               | 28                  | \n",
       "| 982 | 32359568            | 249000              | S<c4><b1>f<c4><b1>r | Uygun               |  0                  | \n",
       "| 983 | 32360019            | 500000              | <c4><b0>kinci El    | Uygun               | 20                  | \n",
       "| 984 | 32362169            | 275000              | <c4><b0>kinci El    | Uygun               |  4                  | \n",
       "| 985 | 32362840            | 650000              | <c4><b0>kinci El    | Uygun               | 22                  | \n",
       "| 986 | 32364656            | 400000              | <c4><b0>kinci El    | Uygun de<c4><9f>il  | 20                  | \n",
       "| 987 | 32364700            | 400000              | <c4><b0>kinci El    | Uygun de<c4><9f>il  | 20                  | \n",
       "| 988 | 32364751            | 890000              | <c4><b0>kinci El    | Uygun               | 40                  | \n",
       "| 989 | 32365559            | 415000              | <c4><b0>kinci El    | Uygun de<c4><9f>il  | 18                  | \n",
       "| 990 |  4430826            | 800000              | <c4><b0>kinci El    | Uygun               | 30                  | \n",
       "| 991 |  5429535            | 900000              | <c4><b0>kinci El    | Uygun               | 28                  | \n",
       "| 992 |  6886082            | 500000              | <c4><b0>kinci El    | Uygun               | 30                  | \n",
       "| 993 |  7313733            | 900000              | <c4><b0>kinci El    | Uygun               | 28                  | \n",
       "\n",
       "\n"
      ],
      "text/plain": [
       "    V1       V2      V3                  V4                 V5 \n",
       "1   10005103  690000 \\304\\260kinci El    Uygun              20 \n",
       "2    1108042  440000 \\304\\260kinci El    Uygun              24 \n",
       "3   12497729  490000 S\\304\\261f\\304\\261r Uygun               3 \n",
       "4   12748522  580000 \\304\\260kinci El    Uygun              38 \n",
       "5   14363743  645000 \\304\\260kinci El    Uygun              20 \n",
       "7   15395342  160000 \\304\\260kinci El    Uygun de\\304\\237il 20 \n",
       "8   16603754  382000 \\304\\260kinci El    Uygun              10 \n",
       "9   16723985  360000 S\\304\\261f\\304\\261r Uygun               0 \n",
       "10  17462287  450000 \\304\\260kinci El    Uygun de\\304\\237il 15 \n",
       "11  17697337  480000 \\304\\260kinci El    Uygun               0 \n",
       "12  17713682  200000 \\304\\260kinci El    Uygun de\\304\\237il  6 \n",
       "13  17909432  300000 \\304\\260kinci El    Uygun de\\304\\237il 14 \n",
       "14  18230322  250000 \\304\\260kinci El    Uygun de\\304\\237il 10 \n",
       "15  18248561  900000 \\304\\260kinci El    Uygun               3 \n",
       "16  18579922  300000 \\304\\260kinci El    Uygun de\\304\\237il  8 \n",
       "17  18609188  425000 S\\304\\261f\\304\\261r Uygun               2 \n",
       "18  18658896  410000 S\\304\\261f\\304\\261r Uygun               5 \n",
       "19  18885413  595000 \\304\\260kinci El    Uygun              25 \n",
       "20  18967739  300000 \\304\\260kinci El    Uygun de\\304\\237il 16 \n",
       "21  18967894  400000 \\304\\260kinci El    Uygun de\\304\\237il 16 \n",
       "22  19197278  580000 \\304\\260kinci El    Uygun              25 \n",
       "23  19644320  235000 S\\304\\261f\\304\\261r Uygun               0 \n",
       "24  19773812  500000 \\304\\260kinci El    Uygun              25 \n",
       "25  19827759  500000 S\\304\\261f\\304\\261r Uygun               0 \n",
       "26  19967666  750000 \\304\\260kinci El    Uygun              25 \n",
       "27  19978227  750000 \\304\\260kinci El    Uygun              25 \n",
       "29  20077369  300000 \\304\\260kinci El    Uygun de\\304\\237il 10 \n",
       "30  20144528 2000000 \\304\\260kinci El    Uygun              10 \n",
       "31  20160243  850000 S\\304\\261f\\304\\261r Uygun               0 \n",
       "32  20230917  325000 \\304\\260kinci El    Uygun de\\304\\237il 15 \n",
       "... ...      ...     ...                 ...                ...\n",
       "964 32342966 350000  \\304\\260kinci El    Uygun de\\304\\237il 20 \n",
       "965 32343061 650000  \\304\\260kinci El    Uygun              32 \n",
       "966 32343150 250000  \\304\\260kinci El    Uygun de\\304\\237il 15 \n",
       "967 32344013 690000  \\304\\260kinci El    Uygun              35 \n",
       "968 32344636 350000  \\304\\260kinci El    Uygun de\\304\\237il 20 \n",
       "969 32345345 780000  \\304\\260kinci El    Uygun              35 \n",
       "970 32345818 550000  \\304\\260kinci El    Uygun              35 \n",
       "971 32346144 500000  \\304\\260kinci El    Uygun              28 \n",
       "972 32347940 360000  \\304\\260kinci El    Uygun de\\304\\237il 20 \n",
       "973 32348215 228000  \\304\\260kinci El    Uygun               5 \n",
       "974 32349724 170000  \\304\\260kinci El    Uygun de\\304\\237il 20 \n",
       "975 32349820 455000  S\\304\\261f\\304\\261r Uygun              25 \n",
       "976 32351910 310000  S\\304\\261f\\304\\261r Uygun               5 \n",
       "977 32352748 500000  \\304\\260kinci El    Uygun de\\304\\237il 18 \n",
       "978 32352846 560000  S\\304\\261f\\304\\261r Uygun               0 \n",
       "979 32356095 310000  \\304\\260kinci El    Uygun              26 \n",
       "980 32357493 315000  S\\304\\261f\\304\\261r Uygun               0 \n",
       "981 32359289 575000  \\304\\260kinci El    Uygun              28 \n",
       "982 32359568 249000  S\\304\\261f\\304\\261r Uygun               0 \n",
       "983 32360019 500000  \\304\\260kinci El    Uygun              20 \n",
       "984 32362169 275000  \\304\\260kinci El    Uygun               4 \n",
       "985 32362840 650000  \\304\\260kinci El    Uygun              22 \n",
       "986 32364656 400000  \\304\\260kinci El    Uygun de\\304\\237il 20 \n",
       "987 32364700 400000  \\304\\260kinci El    Uygun de\\304\\237il 20 \n",
       "988 32364751 890000  \\304\\260kinci El    Uygun              40 \n",
       "989 32365559 415000  \\304\\260kinci El    Uygun de\\304\\237il 18 \n",
       "990  4430826 800000  \\304\\260kinci El    Uygun              30 \n",
       "991  5429535 900000  \\304\\260kinci El    Uygun              28 \n",
       "992  6886082 500000  \\304\\260kinci El    Uygun              30 \n",
       "993  7313733 900000  \\304\\260kinci El    Uygun              28 "
      ]
     },
     "metadata": {},
     "output_type": "display_data"
    }
   ],
   "source": [
    "selected_info_na "
   ]
  },
  {
   "cell_type": "raw",
   "metadata": {},
   "source": [
    "After R usage of code, I can analyze my data deeply."
   ]
  },
  {
   "cell_type": "code",
   "execution_count": 6,
   "metadata": {},
   "outputs": [],
   "source": [
    "names(selected_info_na) <- c(\"id\", \"price\", \"situation\", \"eligibility\", \"age\")"
   ]
  },
  {
   "cell_type": "code",
   "execution_count": 7,
   "metadata": {},
   "outputs": [
    {
     "name": "stdout",
     "output_type": "stream",
     "text": [
      "'data.frame':\t905 obs. of  5 variables:\n",
      " $ id         : int  10005103 1108042 12497729 12748522 14363743 15395342 16603754 16723985 17462287 17697337 ...\n",
      " $ price      : int  690000 440000 490000 580000 645000 160000 382000 360000 450000 480000 ...\n",
      " $ situation  : Factor w/ 3 levels \"S\\304\\261f\\304\\261r\",..: 3 3 1 3 3 3 3 1 3 3 ...\n",
      " $ eligibility: Factor w/ 3 levels \"Bilinmiyor\",\"Uygun\",..: 2 2 2 2 2 3 2 2 3 2 ...\n",
      " $ age        : int  20 24 3 38 20 20 10 0 15 0 ...\n",
      " - attr(*, \"na.action\")= 'omit' Named int  6 28 124 127 128 131 144 176 199 208 ...\n",
      "  ..- attr(*, \"names\")= chr  \"6\" \"28\" \"124\" \"127\" ...\n"
     ]
    }
   ],
   "source": [
    "str((selected_info_na))"
   ]
  },
  {
   "cell_type": "code",
   "execution_count": 10,
   "metadata": {},
   "outputs": [
    {
     "data": {
      "text/html": [
       "<table>\n",
       "<thead><tr><th scope=col>Group.1</th><th scope=col>Group.2</th><th scope=col>x</th></tr></thead>\n",
       "<tbody>\n",
       "\t<tr><td>Bilinmiyor                           </td><td>S<c4><b1>f<c4><b1>r                  </td><td>   320000                            </td></tr>\n",
       "\t<tr><td>Uygun                                </td><td>S<c4><b1>f<c4><b1>r                  </td><td>162398500                            </td></tr>\n",
       "\t<tr><td>Uygun de<c4><9f>il                   </td><td>S<c4><b1>f<c4><b1>r                  </td><td>   450000                            </td></tr>\n",
       "\t<tr><td>Uygun                                </td><td>Yap<c4><b1>m A<c5><9f>amas<c4><b1>nda</td><td>   630000                            </td></tr>\n",
       "\t<tr><td>Uygun de<c4><9f>il                   </td><td>Yap<c4><b1>m A<c5><9f>amas<c4><b1>nda</td><td>   295000                            </td></tr>\n",
       "\t<tr><td>Bilinmiyor                           </td><td><c4><b0>kinci El                     </td><td>  3950000                            </td></tr>\n",
       "\t<tr><td>Uygun                                </td><td><c4><b0>kinci El                     </td><td>288213500                            </td></tr>\n",
       "\t<tr><td>Uygun de<c4><9f>il                   </td><td><c4><b0>kinci El                     </td><td> 37989500                            </td></tr>\n",
       "</tbody>\n",
       "</table>\n"
      ],
      "text/latex": [
       "\\begin{tabular}{r|lll}\n",
       " Group.1 & Group.2 & x\\\\\n",
       "\\hline\n",
       "\t Bilinmiyor                            & S<c4><b1>f<c4><b1>r                   &    320000                            \\\\\n",
       "\t Uygun                                 & S<c4><b1>f<c4><b1>r                   & 162398500                            \\\\\n",
       "\t Uygun de<c4><9f>il                    & S<c4><b1>f<c4><b1>r                   &    450000                            \\\\\n",
       "\t Uygun                                 & Yap<c4><b1>m A<c5><9f>amas<c4><b1>nda &    630000                            \\\\\n",
       "\t Uygun de<c4><9f>il                    & Yap<c4><b1>m A<c5><9f>amas<c4><b1>nda &    295000                            \\\\\n",
       "\t Bilinmiyor                            & <c4><b0>kinci El                      &   3950000                            \\\\\n",
       "\t Uygun                                 & <c4><b0>kinci El                      & 288213500                            \\\\\n",
       "\t Uygun de<c4><9f>il                    & <c4><b0>kinci El                      &  37989500                            \\\\\n",
       "\\end{tabular}\n"
      ],
      "text/markdown": [
       "\n",
       "Group.1 | Group.2 | x | \n",
       "|---|---|---|---|---|---|---|---|\n",
       "| Bilinmiyor                            | S<c4><b1>f<c4><b1>r                   |    320000                             | \n",
       "| Uygun                                 | S<c4><b1>f<c4><b1>r                   | 162398500                             | \n",
       "| Uygun de<c4><9f>il                    | S<c4><b1>f<c4><b1>r                   |    450000                             | \n",
       "| Uygun                                 | Yap<c4><b1>m A<c5><9f>amas<c4><b1>nda |    630000                             | \n",
       "| Uygun de<c4><9f>il                    | Yap<c4><b1>m A<c5><9f>amas<c4><b1>nda |    295000                             | \n",
       "| Bilinmiyor                            | <c4><b0>kinci El                      |   3950000                             | \n",
       "| Uygun                                 | <c4><b0>kinci El                      | 288213500                             | \n",
       "| Uygun de<c4><9f>il                    | <c4><b0>kinci El                      |  37989500                             | \n",
       "\n",
       "\n"
      ],
      "text/plain": [
       "  Group.1            Group.2                               x        \n",
       "1 Bilinmiyor         S\\304\\261f\\304\\261r                      320000\n",
       "2 Uygun              S\\304\\261f\\304\\261r                   162398500\n",
       "3 Uygun de\\304\\237il S\\304\\261f\\304\\261r                      450000\n",
       "4 Uygun              Yap\\304\\261m A\\305\\237amas\\304\\261nda    630000\n",
       "5 Uygun de\\304\\237il Yap\\304\\261m A\\305\\237amas\\304\\261nda    295000\n",
       "6 Bilinmiyor         \\304\\260kinci El                        3950000\n",
       "7 Uygun              \\304\\260kinci El                      288213500\n",
       "8 Uygun de\\304\\237il \\304\\260kinci El                       37989500"
      ]
     },
     "metadata": {},
     "output_type": "display_data"
    }
   ],
   "source": [
    "with(selected_info_na, aggregate(price, by = list(eligibility,situation), FUN = sum),order=price)"
   ]
  },
  {
   "cell_type": "raw",
   "metadata": {},
   "source": [
    "There is  correlatio between group1(eligibility)and price it seems that expensive houses have credit avaibility option(may be for easy payment options) \n",
    "and furthermore there is  correlation between situation of building and price.\"first hand homes\" are more expensive."
   ]
  }
 ],
 "metadata": {
  "kernelspec": {
   "display_name": "Bash",
   "language": "bash",
   "name": "bash"
  },
  "language_info": {
   "codemirror_mode": "shell",
   "file_extension": ".sh",
   "mimetype": "text/x-sh",
   "name": "bash"
  },
  "sos": {
   "kernels": [],
   "panel": {
    "displayed": true,
    "height": 0,
    "style": "side"
   },
   "version": "0.17.2"
  },
  "toc": {
   "base_numbering": 1,
   "nav_menu": {},
   "number_sections": true,
   "sideBar": true,
   "skip_h1_title": false,
   "title_cell": "Table of Contents",
   "title_sidebar": "Contents",
   "toc_cell": false,
   "toc_position": {},
   "toc_section_display": "block",
   "toc_window_display": false
  }
 },
 "nbformat": 4,
 "nbformat_minor": 2
}
